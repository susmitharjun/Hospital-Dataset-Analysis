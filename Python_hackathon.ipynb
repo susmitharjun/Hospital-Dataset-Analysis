{
 "cells": [
  {
   "cell_type": "code",
   "execution_count": 1,
   "id": "a58e3ac8",
   "metadata": {},
   "outputs": [
    {
     "data": {
      "text/plain": [
       "'C:\\\\Users\\\\himanika'"
      ]
     },
     "execution_count": 1,
     "metadata": {},
     "output_type": "execute_result"
    }
   ],
   "source": [
    "pwd\n"
   ]
  },
  {
   "cell_type": "code",
   "execution_count": 2,
   "id": "75ff9ab9",
   "metadata": {},
   "outputs": [],
   "source": [
    "#Amrita Testing"
   ]
  },
  {
   "cell_type": "code",
   "execution_count": null,
   "id": "d55af967",
   "metadata": {},
   "outputs": [],
   "source": [
    "#demo creating for checking"
   ]
  },
  {
   "cell_type": "code",
   "execution_count": null,
   "id": "1aae96c5",
   "metadata": {},
   "outputs": [],
   "source": [
    "running this cell to check "
   ]
  }
 ],
 "metadata": {
  "kernelspec": {
   "display_name": "Python 3 (ipykernel)",
   "language": "python",
   "name": "python3"
  },
  "language_info": {
   "codemirror_mode": {
    "name": "ipython",
    "version": 3
   },
   "file_extension": ".py",
   "mimetype": "text/x-python",
   "name": "python",
   "nbconvert_exporter": "python",
   "pygments_lexer": "ipython3",
   "version": "3.11.5"
  }
 },
 "nbformat": 4,
 "nbformat_minor": 5
}
