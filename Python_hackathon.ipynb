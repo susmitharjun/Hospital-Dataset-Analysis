{
 "cells": [
  {
   "cell_type": "code",
   "execution_count": 1,
   "id": "7fbbdb55",
   "metadata": {},
   "outputs": [
    {
     "data": {
      "text/plain": [
       "'C:\\\\Users\\\\himanika'"
      ]
     },
     "execution_count": 1,
     "metadata": {},
     "output_type": "execute_result"
    }
   ],
   "source": [
    "pwd\n"
   ]
  },
  {
   "cell_type": "code",
   "execution_count": 3,
   "id": "cd7dabca",
   "metadata": {},
   "outputs": [],
   "source": [
    "#By Amrita"
   ]
  },
  {
   "cell_type": "code",
   "execution_count": null,
   "id": "c8aa56ea",
   "metadata": {},
   "outputs": [],
   "source": [
    "#demo creating for checking"
   ]
  },
  {
   "cell_type": "code",
   "execution_count": null,
   "id": "a6c30528",
   "metadata": {},
   "outputs": [],
   "source": [
    "running this cell to check "
   ]
  },
  {
   "cell_type": "code",
   "execution_count": null,
   "id": "8fbdea70",
   "metadata": {},
   "outputs": [],
   "source": [
    "#WE ARE TESTING"
   ]
  },
  {
   "cell_type": "code",
   "execution_count": null,
   "id": "6b12ed56",
   "metadata": {},
   "outputs": [],
   "source": [
    "#Test by Smita"
   ]
  },
  {
   "cell_type": "code",
   "execution_count": null,
   "id": "c3e547f7",
   "metadata": {},
   "outputs": [],
   "source": [
    "#Alekhya Testing"
   ]
  }
 ],
 "metadata": {
  "kernelspec": {
   "display_name": "Python 3 (ipykernel)",
   "language": "python",
   "name": "python3"
  },
  "language_info": {
   "codemirror_mode": {
    "name": "ipython",
    "version": 3
   },
   "file_extension": ".py",
   "mimetype": "text/x-python",
   "name": "python",
   "nbconvert_exporter": "python",
   "pygments_lexer": "ipython3",
   "version": "3.11.5"
  }
 },
 "nbformat": 4,
 "nbformat_minor": 5
}
